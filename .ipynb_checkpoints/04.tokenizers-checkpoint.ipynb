{
 "cells": [
  {
   "cell_type": "markdown",
   "id": "c3a66167-d9b8-48f6-bd59-5a07ada9a244",
   "metadata": {},
   "source": [
    "# Tokenizers\n",
    "\n",
    "Tokenizers are one of the core components of the NLP pipeline. They serve one purpose: to translate text into data that can be processed by the model. Models can only process numbers, so tokenizers need to convert our text inputs to numerical data. The goal is to find the most meaningful representation — that is, the one that makes the most sense to the model — and, if possible, the smallest representation."
   ]
  },
  {
   "cell_type": "markdown",
   "id": "ce279430-98d2-4962-a067-248eeab0551b",
   "metadata": {},
   "source": [
    "## Word-Based\n",
    "\n",
    "The first type of tokenizer that comes to mind is word-based. It’s generally very easy to set up and use with only a few rules, and it often yields decent results.\n",
    "\n",
    "There are different ways to split the text. For example, we could use whitespace to tokenize the text into words by applying Python’s split() function:"
   ]
  },
  {
   "cell_type": "code",
   "execution_count": 1,
   "id": "51a23b7c-80b6-4409-a0f7-1865e876600b",
   "metadata": {},
   "outputs": [
    {
     "name": "stdout",
     "output_type": "stream",
     "text": [
      "['Jim', 'Henson', 'was', 'a', 'puppeteer']\n"
     ]
    }
   ],
   "source": [
    "tokenized_text = \"Jim Henson was a puppeteer\".split()\n",
    "print(tokenized_text)"
   ]
  },
  {
   "cell_type": "markdown",
   "id": "f7ff104f-2ba9-4f1f-bcaf-d514bd786a86",
   "metadata": {},
   "source": [
    "There are also variations of word tokenizers that have extra rules for punctuation. With this kind of tokenizer, we can end up with some pretty large “vocabularies,” where a vocabulary is defined by the total number of independent tokens that we have in our corpus.\n",
    "\n",
    "Each word gets assigned an ID, starting from 0 and going up to the size of the vocabulary. The model uses these IDs to identify each word.\n",
    "\n",
    "If we want to completely cover a language with a word-based tokenizer, we’ll need to have an identifier for each word in the language, which will generate a huge amount of tokens. For example, there are over 500,000 words in the English language, so to build a map from each word to an input ID we’d need to keep track of that many IDs.\n",
    "\n",
    "Furthermore, words like “dog” are represented differently from words like “dogs”, and the model will initially have no way of knowing that “dog” and “dogs” are similar: it will identify the two words as unrelated. The same applies to other similar words, like “run” and “running”, which the model will not see as being similar initially.\n",
    "\n",
    "Finally, we need a custom token to represent words that are not in our vocabulary. This is known as the “unknown” token, often represented as `[UNK]` or `<unk>`. \n",
    "\n",
    "It’s generally a bad sign if you see that the tokenizer is producing a lot of these tokens, as it wasn’t able to retrieve a sensible representation of a word and you’re losing information along the way. \n",
    "\n",
    "The goal when crafting the vocabulary is to do it in such a way that the tokenizer tokenizes as few words as possible into the unknown token.\n",
    "\n",
    "One way to reduce the amount of unknown tokens is to go one level deeper, using a character-based tokenizer."
   ]
  },
  {
   "cell_type": "markdown",
   "id": "71a5be32-9022-46b4-9f56-036ce4257ceb",
   "metadata": {},
   "source": [
    "## Character-based\n",
    "\n",
    "Character-based tokenizers split the text into characters, rather than words. This has two primary benefits:\n",
    "\n",
    "- The vocabulary is much smaller.\n",
    "- There are much fewer out-of-vocabulary (unknown) tokens, since every word can be built from characters.\n",
    "- But here too some questions arise concerning spaces and punctuation:\n",
    "\n",
    "This approach isn’t perfect either. Since the representation is now based on characters rather than words, one could argue that, intuitively, it’s less meaningful: each character doesn’t mean a lot on its own, whereas that is the case with words. However, this again differs according to the language; in Chinese, for example, each character carries more information than a character in a Latin language.\n",
    "\n",
    "Another thing to consider is that we’ll end up with a very large amount of tokens to be processed by our model: whereas a word would only be a single token with a word-based tokenizer, it can easily turn into 10 or more tokens when converted into characters.\n",
    "\n",
    "To get the best of both worlds, we can use a third technique that combines the two approaches: subword tokenization."
   ]
  },
  {
   "cell_type": "markdown",
   "id": "93eba541-6e85-4cb0-963d-cefbd2686d48",
   "metadata": {},
   "source": [
    "## Subword tokenization\n",
    "\n",
    "Subword tokenization algorithms rely on the principle that-\n",
    "\n",
    "- frequently used words should not be split into smaller subwords,\n",
    "- rare words should be decomposed into meaningful subwords.\n",
    "\n",
    "For instance, “annoyingly” might be considered a rare word and could be decomposed into “annoying” and “ly”. These are both likely to appear more frequently as standalone subwords, while at the same time the meaning of “annoyingly” is kept by the composite meaning of “annoying” and “ly”.\n",
    "\n",
    "Unsurprisingly, there are many more techniques out there. To name a few:\n",
    "\n",
    "- Byte-level BPE, as used in GPT-2\n",
    "- WordPiece, as used in BERT\n",
    "- SentencePiece or Unigram, as used in several multilingual models"
   ]
  },
  {
   "cell_type": "markdown",
   "id": "8673fdfa-23ae-4094-a6d7-2cfb2f6ec45c",
   "metadata": {},
   "source": [
    "## Loading and saving\n",
    "Loading and saving tokenizers is as simple as it is with models. Actually, it’s based on the same two methods: from_pretrained() and save_pretrained(). These methods will load or save the algorithm used by the tokenizer (a bit like the architecture of the model) as well as its vocabulary (a bit like the weights of the model).\n",
    "\n",
    "Loading the BERT tokenizer trained with the same checkpoint as BERT is done the same way as loading the model, except we use the BertTokenizer class:"
   ]
  },
  {
   "cell_type": "code",
   "execution_count": 2,
   "id": "6d402587-9916-4a70-aca8-8a835895de89",
   "metadata": {},
   "outputs": [],
   "source": [
    "from transformers import BertTokenizer"
   ]
  },
  {
   "cell_type": "code",
   "execution_count": 3,
   "id": "539dbfa8-698c-4240-aa51-13b30e3e41e2",
   "metadata": {},
   "outputs": [],
   "source": [
    "checkpoint = \"google-bert/bert-base-cased\""
   ]
  },
  {
   "cell_type": "code",
   "execution_count": 4,
   "id": "6f957a4d-397a-47da-a649-f2cd97fee3aa",
   "metadata": {},
   "outputs": [],
   "source": [
    "tokenizer = BertTokenizer.from_pretrained(checkpoint)"
   ]
  },
  {
   "cell_type": "markdown",
   "id": "9d047bc1-14a0-4214-94cf-87e9a7a9ebbb",
   "metadata": {},
   "source": [
    "Similar to AutoModel, the AutoTokenizer class will grab the proper tokenizer class in the library based on the checkpoint name, and can be used directly with any checkpoint."
   ]
  },
  {
   "cell_type": "code",
   "execution_count": 5,
   "id": "d029bb15-d5a3-42cf-aa81-4c90e5d23cc2",
   "metadata": {},
   "outputs": [],
   "source": [
    "from transformers import AutoTokenizer"
   ]
  },
  {
   "cell_type": "code",
   "execution_count": 6,
   "id": "00764505-7b64-4c1a-ac8d-fc48cbf4d5ff",
   "metadata": {},
   "outputs": [],
   "source": [
    "tokenizer = AutoTokenizer.from_pretrained(checkpoint)"
   ]
  },
  {
   "cell_type": "code",
   "execution_count": 7,
   "id": "c4ce7939-897b-4912-9d6f-242bd51e94a2",
   "metadata": {},
   "outputs": [
    {
     "data": {
      "text/plain": [
       "{'input_ids': [101, 7993, 170, 13809, 23763, 2443, 1110, 3014, 102], 'token_type_ids': [0, 0, 0, 0, 0, 0, 0, 0, 0], 'attention_mask': [1, 1, 1, 1, 1, 1, 1, 1, 1]}"
      ]
     },
     "execution_count": 7,
     "metadata": {},
     "output_type": "execute_result"
    }
   ],
   "source": [
    "tokenizer(\"Using a Transformer network is simple\")"
   ]
  },
  {
   "cell_type": "code",
   "execution_count": 8,
   "id": "7b57fb01-6e2e-4202-86a8-270636dae8f8",
   "metadata": {},
   "outputs": [
    {
     "data": {
      "text/plain": [
       "('./saved_tokenizers/bert_base_cased_token/tokenizer_config.json',\n",
       " './saved_tokenizers/bert_base_cased_token/special_tokens_map.json',\n",
       " './saved_tokenizers/bert_base_cased_token/vocab.txt',\n",
       " './saved_tokenizers/bert_base_cased_token/added_tokens.json',\n",
       " './saved_tokenizers/bert_base_cased_token/tokenizer.json')"
      ]
     },
     "execution_count": 8,
     "metadata": {},
     "output_type": "execute_result"
    }
   ],
   "source": [
    "tokenizer.save_pretrained('./saved_tokenizers/bert_base_cased_token/')"
   ]
  },
  {
   "cell_type": "markdown",
   "id": "6b20d57d-2135-471b-84ac-1d67c37a16ca",
   "metadata": {},
   "source": [
    "## Encoding\n",
    "\n",
    "Translating text to numbers is known as encoding. Encoding is done in a two-step process: \n",
    "- the tokenization,\n",
    "- conversion to input IDs.\n",
    "\n",
    "As we’ve seen, the first step is to split the text into words (or parts of words, punctuation symbols, etc.), usually called tokens. There are multiple rules that can govern that process, which is why we need to instantiate the tokenizer using the name of the model, to make sure we use the same rules that were used when the model was pretrained.\n",
    "\n",
    "The second step is to convert those tokens into numbers, so we can build a tensor out of them and feed them to the model. To do this, the tokenizer has a vocabulary, which is the part we download when we instantiate it with the from_pretrained() method. Again, we need to use the same vocabulary used when the model was pretrained."
   ]
  },
  {
   "cell_type": "code",
   "execution_count": 9,
   "id": "eede6f61-9144-4efd-87e1-64039e0c01ba",
   "metadata": {},
   "outputs": [
    {
     "data": {
      "text/plain": [
       "{'input_ids': [101, 2421, 112, 188, 2222, 1106, 22559, 3708, 102], 'token_type_ids': [0, 0, 0, 0, 0, 0, 0, 0, 0], 'attention_mask': [1, 1, 1, 1, 1, 1, 1, 1, 1]}"
      ]
     },
     "execution_count": 9,
     "metadata": {},
     "output_type": "execute_result"
    }
   ],
   "source": [
    "inputs = tokenizer(\"Let's try to tokenize\")\n",
    "inputs"
   ]
  },
  {
   "cell_type": "code",
   "execution_count": 10,
   "id": "089e4604-8693-4aa9-893c-4fb357fcd00a",
   "metadata": {},
   "outputs": [
    {
     "data": {
      "text/plain": [
       "[101, 2421, 112, 188, 2222, 1106, 22559, 3708, 102]"
      ]
     },
     "execution_count": 10,
     "metadata": {},
     "output_type": "execute_result"
    }
   ],
   "source": [
    "inputs['input_ids']"
   ]
  },
  {
   "cell_type": "markdown",
   "id": "39c3f4a6-f9a1-4409-bb98-0891e1798757",
   "metadata": {},
   "source": [
    "1. Raw Text => `Let's try to tokenize`\n",
    "2. Tokens => `[let, ', s, try, to, token, ##ize, !]`\n",
    "3. Special Tokens => `[[CLS],let, ', s, try, to, token, ##ize, !, [SEP]]`\n",
    "4. Input IDs => `[101, 2421, 112, 188, 2222, 1106, 22559, 3708, 102]`"
   ]
  },
  {
   "cell_type": "markdown",
   "id": "be0f9757-dbbe-4865-9d23-ed89c17faff4",
   "metadata": {},
   "source": [
    "### Tokenization"
   ]
  },
  {
   "cell_type": "code",
   "execution_count": 16,
   "id": "b3996165-1830-430f-a729-053e99451d58",
   "metadata": {},
   "outputs": [],
   "source": [
    "raw_text = \"Let's try to tokenize!\""
   ]
  },
  {
   "cell_type": "markdown",
   "id": "59108052-d84d-49e9-b09f-179049b1f0a0",
   "metadata": {},
   "source": [
    "The tokenization process is done by the tokenize() method of the tokenizer. The output of this method is a list of strings, or tokens."
   ]
  },
  {
   "cell_type": "code",
   "execution_count": 17,
   "id": "845640db-5268-4297-ac65-fc2ae7c4f6a9",
   "metadata": {},
   "outputs": [
    {
     "data": {
      "text/plain": [
       "['Let', \"'\", 's', 'try', 'to', 'token', '##ize', '!']"
      ]
     },
     "execution_count": 17,
     "metadata": {},
     "output_type": "execute_result"
    }
   ],
   "source": [
    "tokens = tokenizer.tokenize(raw_text)\n",
    "tokens"
   ]
  },
  {
   "cell_type": "markdown",
   "id": "5e73fc55-4442-47a6-a7f6-e0be312b70f5",
   "metadata": {},
   "source": [
    "This tokenizer is a subword tokenizer, it splits the words until it obtains tokens that can be represented by its vocabulary. That’s the case here with tokenize, which is split into two tokens: token and ##ize.\n",
    "\n",
    "### From tokens to input IDs\n",
    "The conversion to input IDs is handled by the convert_tokens_to_ids() tokenizer method:"
   ]
  },
  {
   "cell_type": "code",
   "execution_count": 18,
   "id": "13ffbdfa-e6b9-4986-a006-d54dd7a101a3",
   "metadata": {},
   "outputs": [
    {
     "data": {
      "text/plain": [
       "[2421, 112, 188, 2222, 1106, 22559, 3708, 106]"
      ]
     },
     "execution_count": 18,
     "metadata": {},
     "output_type": "execute_result"
    }
   ],
   "source": [
    "input_ids = tokenizer.convert_tokens_to_ids(tokens)\n",
    "input_ids"
   ]
  },
  {
   "cell_type": "markdown",
   "id": "38ec380e-178f-4d4a-a63b-81f6a2aa880c",
   "metadata": {},
   "source": [
    "These outputs, once converted to the appropriate framework tensor, can then be used as inputs to a model."
   ]
  },
  {
   "cell_type": "code",
   "execution_count": 20,
   "id": "00e2faf2-3348-4a6a-a588-cf7b74f92654",
   "metadata": {},
   "outputs": [
    {
     "data": {
      "text/plain": [
       "[101, 2421, 112, 188, 2222, 1106, 22559, 3708, 106, 102]"
      ]
     },
     "execution_count": 20,
     "metadata": {},
     "output_type": "execute_result"
    }
   ],
   "source": [
    "# special tokens\n",
    "final_inputs = tokenizer.prepare_for_model(input_ids)\n",
    "final_inputs['input_ids']"
   ]
  },
  {
   "cell_type": "markdown",
   "id": "fc1a5809-aa5a-42ea-b4e1-9034f532a009",
   "metadata": {},
   "source": [
    "## Decoding\n",
    "Decoding is going the other way around: from vocabulary indices, we want to get a string. This can be done with the decode() method"
   ]
  },
  {
   "cell_type": "code",
   "execution_count": 21,
   "id": "598a2af1-62ff-415d-9eaf-2322ec2cc17b",
   "metadata": {},
   "outputs": [
    {
     "data": {
      "text/plain": [
       "\"[CLS] Let ' s try to tokenize! [SEP]\""
      ]
     },
     "execution_count": 21,
     "metadata": {},
     "output_type": "execute_result"
    }
   ],
   "source": [
    "# See the special tokens\n",
    "sp_tokens = tokenizer.decode(final_inputs['input_ids'])\n",
    "sp_tokens"
   ]
  },
  {
   "cell_type": "code",
   "execution_count": 22,
   "id": "d70c402f-753d-415c-b690-127d85d2e877",
   "metadata": {},
   "outputs": [
    {
     "data": {
      "text/plain": [
       "\"Let ' s try to tokenize!\""
      ]
     },
     "execution_count": 22,
     "metadata": {},
     "output_type": "execute_result"
    }
   ],
   "source": [
    "decoded_string = tokenizer.decode(input_ids)\n",
    "decoded_string"
   ]
  },
  {
   "cell_type": "markdown",
   "id": "0c643e2b-cb55-46d8-86ac-df9ff3e1cc42",
   "metadata": {},
   "source": [
    "Note that the decode method not only converts the indices back to tokens, but also groups together the tokens that were part of the same words to produce a readable sentence. This behavior will be extremely useful when we use models that predict new text (either text generated from a prompt, or for sequence-to-sequence problems like translation or summarization)."
   ]
  },
  {
   "cell_type": "code",
   "execution_count": null,
   "id": "f14b35db-20af-4df1-93ae-416a7ee993ff",
   "metadata": {},
   "outputs": [],
   "source": []
  },
  {
   "cell_type": "code",
   "execution_count": null,
   "id": "0ebcea9f-1843-4ad9-abba-affaa6fd54be",
   "metadata": {},
   "outputs": [],
   "source": []
  },
  {
   "cell_type": "code",
   "execution_count": null,
   "id": "444d4aba-48e6-45cd-91ed-82903ef5da2e",
   "metadata": {},
   "outputs": [],
   "source": []
  },
  {
   "cell_type": "code",
   "execution_count": null,
   "id": "baf02da0-da2d-40eb-8a52-2d0ce4fdeb80",
   "metadata": {},
   "outputs": [],
   "source": []
  }
 ],
 "metadata": {
  "kernelspec": {
   "display_name": "Python 3 (ipykernel)",
   "language": "python",
   "name": "python3"
  },
  "language_info": {
   "codemirror_mode": {
    "name": "ipython",
    "version": 3
   },
   "file_extension": ".py",
   "mimetype": "text/x-python",
   "name": "python",
   "nbconvert_exporter": "python",
   "pygments_lexer": "ipython3",
   "version": "3.12.9"
  }
 },
 "nbformat": 4,
 "nbformat_minor": 5
}
