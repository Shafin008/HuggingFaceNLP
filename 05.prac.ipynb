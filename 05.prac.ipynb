{
 "cells": [
  {
   "cell_type": "markdown",
   "id": "25b5ea34-1438-4a13-87bd-2e84cd8b47b0",
   "metadata": {},
   "source": [
    "# Behind the Pipeline"
   ]
  },
  {
   "cell_type": "markdown",
   "id": "bdf3fb31-4627-48d5-af16-22e7776dee2c",
   "metadata": {},
   "source": [
    "## Sentiment Analysis (finbert)"
   ]
  },
  {
   "cell_type": "code",
   "execution_count": 40,
   "id": "6d6482a4-c481-4a84-91a9-657df4ee61f2",
   "metadata": {},
   "outputs": [],
   "source": [
    "from transformers import AutoTokenizer, AutoModelForSequenceClassification, pipeline\n",
    "from utils.bert_models_result import result_output_finbert, result_output_bert\n",
    "import torch\n",
    "import torch.nn.functional as F\n",
    "from pprint import pprint"
   ]
  },
  {
   "cell_type": "code",
   "execution_count": 2,
   "id": "249e4a5c-cef2-4142-beb5-cbb6c10b1f86",
   "metadata": {},
   "outputs": [],
   "source": [
    "raw_inputs = [\n",
    "    \"This is an absolute joke!\",\n",
    "    \"Cristiano Ronaldo is better than Messi.\",\n",
    "    \"I'm genuinly happy for his success.\"\n",
    "]"
   ]
  },
  {
   "cell_type": "code",
   "execution_count": 3,
   "id": "f9cf95fe-d3ec-4602-9139-2d291cdcaa28",
   "metadata": {},
   "outputs": [],
   "source": [
    "finbert_checkpoint = \"ProsusAI/finbert\""
   ]
  },
  {
   "cell_type": "markdown",
   "id": "47265d1e-cc9f-40e9-b959-a03ad0100f61",
   "metadata": {},
   "source": [
    "### Using Pipeline"
   ]
  },
  {
   "cell_type": "code",
   "execution_count": 4,
   "id": "7e01a723-ed2a-49db-b7e9-1e7abc37bd82",
   "metadata": {},
   "outputs": [
    {
     "name": "stderr",
     "output_type": "stream",
     "text": [
      "Device set to use mps:0\n"
     ]
    }
   ],
   "source": [
    "sent_pipe_finbert = pipeline(task='sentiment-analysis', model=finbert_checkpoint)"
   ]
  },
  {
   "cell_type": "code",
   "execution_count": 5,
   "id": "b4b241b6-c07a-4254-ba5d-a8103f5b9a17",
   "metadata": {},
   "outputs": [],
   "source": [
    "# sent_pipe.model.config"
   ]
  },
  {
   "cell_type": "code",
   "execution_count": 6,
   "id": "389a1c0b-5317-4990-bbd2-667845f3180a",
   "metadata": {},
   "outputs": [
    {
     "name": "stdout",
     "output_type": "stream",
     "text": [
      "[{'label': 'negative', 'score': 0.7869253158569336},\n",
      " {'label': 'neutral', 'score': 0.5224577188491821},\n",
      " {'label': 'positive', 'score': 0.7966387867927551}]\n"
     ]
    }
   ],
   "source": [
    "pprint(sent_pipe_finbert(raw_inputs))"
   ]
  },
  {
   "cell_type": "code",
   "execution_count": null,
   "id": "aee33a4b-a034-4ac7-bb2e-e84efe815a63",
   "metadata": {},
   "outputs": [],
   "source": []
  },
  {
   "cell_type": "markdown",
   "id": "d9c7396e-97ef-4772-a3c5-7dee727a19a3",
   "metadata": {},
   "source": [
    "### Using AutoTokenizer and AutoModelForSequenceClassification "
   ]
  },
  {
   "cell_type": "code",
   "execution_count": 7,
   "id": "a6380a68-2bfc-45ef-bd39-ae0ae246ad40",
   "metadata": {},
   "outputs": [],
   "source": [
    "# initialize tokenizer\n",
    "finbert_tokenizer = AutoTokenizer.from_pretrained(finbert_checkpoint)"
   ]
  },
  {
   "cell_type": "code",
   "execution_count": 8,
   "id": "0572d8a7-3846-48a1-af73-211599590cd6",
   "metadata": {},
   "outputs": [
    {
     "data": {
      "text/plain": [
       "BertTokenizerFast(name_or_path='ProsusAI/finbert', vocab_size=30522, model_max_length=512, is_fast=True, padding_side='right', truncation_side='right', special_tokens={'unk_token': '[UNK]', 'sep_token': '[SEP]', 'pad_token': '[PAD]', 'cls_token': '[CLS]', 'mask_token': '[MASK]'}, clean_up_tokenization_spaces=True, added_tokens_decoder={\n",
       "\t0: AddedToken(\"[PAD]\", rstrip=False, lstrip=False, single_word=False, normalized=False, special=True),\n",
       "\t100: AddedToken(\"[UNK]\", rstrip=False, lstrip=False, single_word=False, normalized=False, special=True),\n",
       "\t101: AddedToken(\"[CLS]\", rstrip=False, lstrip=False, single_word=False, normalized=False, special=True),\n",
       "\t102: AddedToken(\"[SEP]\", rstrip=False, lstrip=False, single_word=False, normalized=False, special=True),\n",
       "\t103: AddedToken(\"[MASK]\", rstrip=False, lstrip=False, single_word=False, normalized=False, special=True),\n",
       "}\n",
       ")"
      ]
     },
     "execution_count": 8,
     "metadata": {},
     "output_type": "execute_result"
    }
   ],
   "source": [
    "finbert_tokenizer"
   ]
  },
  {
   "cell_type": "code",
   "execution_count": 9,
   "id": "6b39d149-ffb8-4a1b-a35d-0e3cd7c322bd",
   "metadata": {},
   "outputs": [],
   "source": [
    "# Extract token data\n",
    "finbert_token_data = finbert_tokenizer(\n",
    "    raw_inputs, \n",
    "    padding=True, \n",
    "    truncation=True,\n",
    "    return_tensors=\"pt\"\n",
    ")"
   ]
  },
  {
   "cell_type": "code",
   "execution_count": 10,
   "id": "62f03302-6850-48a7-9d0e-76baa6e1ea45",
   "metadata": {},
   "outputs": [
    {
     "data": {
      "text/plain": [
       "{'input_ids': tensor([[  101,  2023,  2003,  2019,  7619,  8257,   999,   102,     0,     0,\n",
       "             0,     0,     0],\n",
       "        [  101, 13675,  2923, 15668,  8923,  2080,  2003,  2488,  2084,  6752,\n",
       "          2072,  1012,   102],\n",
       "        [  101,  1045,  1005,  1049,  8991, 20023,  2135,  3407,  2005,  2010,\n",
       "          3112,  1012,   102]]), 'token_type_ids': tensor([[0, 0, 0, 0, 0, 0, 0, 0, 0, 0, 0, 0, 0],\n",
       "        [0, 0, 0, 0, 0, 0, 0, 0, 0, 0, 0, 0, 0],\n",
       "        [0, 0, 0, 0, 0, 0, 0, 0, 0, 0, 0, 0, 0]]), 'attention_mask': tensor([[1, 1, 1, 1, 1, 1, 1, 1, 0, 0, 0, 0, 0],\n",
       "        [1, 1, 1, 1, 1, 1, 1, 1, 1, 1, 1, 1, 1],\n",
       "        [1, 1, 1, 1, 1, 1, 1, 1, 1, 1, 1, 1, 1]])}"
      ]
     },
     "execution_count": 10,
     "metadata": {},
     "output_type": "execute_result"
    }
   ],
   "source": [
    "finbert_token_data"
   ]
  },
  {
   "cell_type": "code",
   "execution_count": 11,
   "id": "2819fd10-40d4-492a-871f-05c30d18d811",
   "metadata": {},
   "outputs": [],
   "source": [
    "finbert_tokens = []\n",
    "for inp in raw_inputs:\n",
    "    finbert_tokens.append(finbert_tokenizer.tokenize(inp))"
   ]
  },
  {
   "cell_type": "code",
   "execution_count": 12,
   "id": "c90fe25e-94af-4a49-9c30-f8a1436e4a41",
   "metadata": {},
   "outputs": [
    {
     "name": "stdout",
     "output_type": "stream",
     "text": [
      "[['this', 'is', 'an', 'absolute', 'joke', '!'],\n",
      " ['cr', '##ist', '##iano', 'ronald', '##o', 'is', 'better', 'than', 'mess',\n",
      "  '##i', '.'],\n",
      " ['i', \"'\", 'm', 'gen', '##uin', '##ly', 'happy', 'for', 'his', 'success', '.']]\n"
     ]
    }
   ],
   "source": [
    "pprint(finbert_tokens, compact=True)"
   ]
  },
  {
   "cell_type": "code",
   "execution_count": 13,
   "id": "ef7ac42f-6b4c-41cc-b020-7edf6c70d53b",
   "metadata": {},
   "outputs": [],
   "source": [
    "# initialize model\n",
    "finbert_model = AutoModelForSequenceClassification.from_pretrained(finbert_checkpoint)\n",
    "# model"
   ]
  },
  {
   "cell_type": "code",
   "execution_count": 14,
   "id": "c32698c1-5bfe-43a1-97f9-e16276a66c4e",
   "metadata": {},
   "outputs": [],
   "source": [
    "# model.config"
   ]
  },
  {
   "cell_type": "code",
   "execution_count": 15,
   "id": "4efbd418-3404-4464-8526-d6a2c72c535c",
   "metadata": {},
   "outputs": [],
   "source": [
    "# input the token data to our model\n",
    "# Forward pass\n",
    "with torch.no_grad():\n",
    "    finbert_model_output = finbert_model(**finbert_token_data)"
   ]
  },
  {
   "cell_type": "code",
   "execution_count": 16,
   "id": "6fbd2c81-ea5a-40f4-94c7-5002817e6051",
   "metadata": {},
   "outputs": [
    {
     "data": {
      "text/plain": [
       "SequenceClassifierOutput(loss=None, logits=tensor([[-1.6557,  2.0578,  0.6569],\n",
       "        [ 0.9340, -2.0800,  1.0718],\n",
       "        [ 1.6271, -2.4764,  0.1948]]), hidden_states=None, attentions=None)"
      ]
     },
     "execution_count": 16,
     "metadata": {},
     "output_type": "execute_result"
    }
   ],
   "source": [
    "finbert_model_output"
   ]
  },
  {
   "cell_type": "code",
   "execution_count": 17,
   "id": "6d67aec2-b7ca-4cdf-9c24-af78083d2840",
   "metadata": {},
   "outputs": [
    {
     "data": {
      "text/plain": [
       "tensor([[-1.6557,  2.0578,  0.6569],\n",
       "        [ 0.9340, -2.0800,  1.0718],\n",
       "        [ 1.6271, -2.4764,  0.1948]])"
      ]
     },
     "execution_count": 17,
     "metadata": {},
     "output_type": "execute_result"
    }
   ],
   "source": [
    "# logits\n",
    "finbert_logits = finbert_model_output['logits']\n",
    "finbert_logits"
   ]
  },
  {
   "cell_type": "code",
   "execution_count": 18,
   "id": "8598f0fd-6d22-4e7f-8add-61287f895114",
   "metadata": {},
   "outputs": [
    {
     "data": {
      "text/plain": [
       "torch.Size([3, 3])"
      ]
     },
     "execution_count": 18,
     "metadata": {},
     "output_type": "execute_result"
    }
   ],
   "source": [
    "finbert_logits.shape"
   ]
  },
  {
   "cell_type": "code",
   "execution_count": 19,
   "id": "09cd6fb8-e263-490a-a782-0ec36326db03",
   "metadata": {},
   "outputs": [
    {
     "data": {
      "text/plain": [
       "tensor([[0.0192, 0.7869, 0.1939],\n",
       "        [0.4552, 0.0223, 0.5225],\n",
       "        [0.7966, 0.0132, 0.1902]])"
      ]
     },
     "execution_count": 19,
     "metadata": {},
     "output_type": "execute_result"
    }
   ],
   "source": [
    "# softmax\n",
    "finbert_output_probs = F.softmax(input=finbert_logits, dim=-1)\n",
    "finbert_output_probs"
   ]
  },
  {
   "cell_type": "code",
   "execution_count": 20,
   "id": "b0b30456-426d-4564-91c9-dbcebbf85751",
   "metadata": {},
   "outputs": [
    {
     "data": {
      "text/plain": [
       "[{'label': 'NEGATIVE', 'score': 0.7869253158569336},\n",
       " {'label': 'NEUTRAL', 'score': 0.5224579572677612},\n",
       " {'label': 'POSITIVE', 'score': 0.7966387867927551}]"
      ]
     },
     "execution_count": 20,
     "metadata": {},
     "output_type": "execute_result"
    }
   ],
   "source": [
    "# results \n",
    "finbert_final_result = result_output_finbert(finbert_model, finbert_output_probs)\n",
    "finbert_final_result"
   ]
  },
  {
   "cell_type": "code",
   "execution_count": 21,
   "id": "4adb8ea6-74dd-40de-9e8b-193cf79b8f7e",
   "metadata": {},
   "outputs": [
    {
     "name": "stdout",
     "output_type": "stream",
     "text": [
      "[{'label': 'negative', 'score': 0.7869253158569336},\n",
      " {'label': 'neutral', 'score': 0.5224577188491821},\n",
      " {'label': 'positive', 'score': 0.7966387867927551}]\n"
     ]
    }
   ],
   "source": [
    "pprint(sent_pipe_finbert(raw_inputs))"
   ]
  },
  {
   "cell_type": "code",
   "execution_count": 22,
   "id": "2386d0d4-a9f3-4828-bca7-2a0ea3d5da9c",
   "metadata": {},
   "outputs": [],
   "source": [
    "# save model\n",
    "#  finbert_model.save_pretrained('./saved_models/finbert_model/')"
   ]
  },
  {
   "cell_type": "markdown",
   "id": "d8e98725-c7df-4093-a814-6f9b332f7810",
   "metadata": {},
   "source": [
    "## Sentiment Analysis (bert)"
   ]
  },
  {
   "cell_type": "code",
   "execution_count": 23,
   "id": "461df39f-0031-44bb-ae7d-914156abd280",
   "metadata": {},
   "outputs": [],
   "source": [
    "bert_checkpoint = \"distilbert/distilbert-base-uncased-finetuned-sst-2-english\""
   ]
  },
  {
   "cell_type": "code",
   "execution_count": 24,
   "id": "0d38edc7-3637-4a75-8146-dcc331d3371d",
   "metadata": {},
   "outputs": [
    {
     "name": "stderr",
     "output_type": "stream",
     "text": [
      "Device set to use mps:0\n"
     ]
    }
   ],
   "source": [
    "sent_pipe_bert = pipeline('sentiment-analysis', model=bert_checkpoint)"
   ]
  },
  {
   "cell_type": "code",
   "execution_count": 25,
   "id": "3f1e09b0-fd5a-48e9-b8f6-6f64200d8693",
   "metadata": {},
   "outputs": [
    {
     "data": {
      "text/plain": [
       "[{'label': 'NEGATIVE', 'score': 0.9991211295127869},\n",
       " {'label': 'POSITIVE', 'score': 0.9997335076332092},\n",
       " {'label': 'POSITIVE', 'score': 0.9998682737350464}]"
      ]
     },
     "execution_count": 25,
     "metadata": {},
     "output_type": "execute_result"
    }
   ],
   "source": [
    "sent_pipe_bert(raw_inputs)"
   ]
  },
  {
   "cell_type": "markdown",
   "id": "c4e97993-5468-4ef4-ac41-7b6b0821a0da",
   "metadata": {},
   "source": []
  },
  {
   "cell_type": "code",
   "execution_count": 26,
   "id": "2966a2b1-7b8c-463d-87f9-c35eddcb6430",
   "metadata": {},
   "outputs": [],
   "source": [
    "# initialize tokenizer\n",
    "bert_tokenizer = AutoTokenizer.from_pretrained(bert_checkpoint)"
   ]
  },
  {
   "cell_type": "code",
   "execution_count": 27,
   "id": "b1d88fbb-afee-48e5-8bbf-87eabfadffb7",
   "metadata": {},
   "outputs": [],
   "source": [
    "# Extract token data\n",
    "bert_token_data = bert_tokenizer(\n",
    "    raw_inputs, \n",
    "    padding=True, \n",
    "    truncation=True,\n",
    "    return_tensors=\"pt\"\n",
    ")"
   ]
  },
  {
   "cell_type": "code",
   "execution_count": 28,
   "id": "55b2d2c1-b894-4ec1-98b8-7683924b0bd1",
   "metadata": {},
   "outputs": [
    {
     "data": {
      "text/plain": [
       "{'input_ids': tensor([[  101,  2023,  2003,  2019,  7619,  8257,   999,   102,     0,     0,\n",
       "             0,     0,     0],\n",
       "        [  101, 13675,  2923, 15668,  8923,  2080,  2003,  2488,  2084,  6752,\n",
       "          2072,  1012,   102],\n",
       "        [  101,  1045,  1005,  1049,  8991, 20023,  2135,  3407,  2005,  2010,\n",
       "          3112,  1012,   102]]), 'attention_mask': tensor([[1, 1, 1, 1, 1, 1, 1, 1, 0, 0, 0, 0, 0],\n",
       "        [1, 1, 1, 1, 1, 1, 1, 1, 1, 1, 1, 1, 1],\n",
       "        [1, 1, 1, 1, 1, 1, 1, 1, 1, 1, 1, 1, 1]])}"
      ]
     },
     "execution_count": 28,
     "metadata": {},
     "output_type": "execute_result"
    }
   ],
   "source": [
    "bert_token_data"
   ]
  },
  {
   "cell_type": "code",
   "execution_count": 29,
   "id": "e03d11a6-fbcd-47a0-b84f-e7ccc8c39bc9",
   "metadata": {},
   "outputs": [],
   "source": [
    "bert_tokens = []\n",
    "for inp in raw_inputs:\n",
    "    bert_tokens.append(bert_tokenizer.tokenize(inp))"
   ]
  },
  {
   "cell_type": "code",
   "execution_count": 31,
   "id": "121a7658-05e0-4700-a8bc-9573cf975467",
   "metadata": {},
   "outputs": [
    {
     "name": "stdout",
     "output_type": "stream",
     "text": [
      "[['this', 'is', 'an', 'absolute', 'joke', '!'],\n",
      " ['cr', '##ist', '##iano', 'ronald', '##o', 'is', 'better', 'than', 'mess',\n",
      "  '##i', '.'],\n",
      " ['i', \"'\", 'm', 'gen', '##uin', '##ly', 'happy', 'for', 'his', 'success', '.']]\n"
     ]
    }
   ],
   "source": [
    "pprint(bert_tokens, compact=True)"
   ]
  },
  {
   "cell_type": "code",
   "execution_count": 32,
   "id": "fa8e157f-a5cb-4648-8841-6a460ab6263e",
   "metadata": {},
   "outputs": [],
   "source": [
    "bert_model = AutoModelForSequenceClassification.from_pretrained(bert_checkpoint)"
   ]
  },
  {
   "cell_type": "code",
   "execution_count": 33,
   "id": "c5501fec-e921-4703-bfd8-6101d8c0dcd4",
   "metadata": {},
   "outputs": [],
   "source": [
    "bert_model_output = bert_model(**bert_token_data)"
   ]
  },
  {
   "cell_type": "code",
   "execution_count": 34,
   "id": "636d2c27-c0b7-4e75-9f20-88e510bea77d",
   "metadata": {},
   "outputs": [
    {
     "data": {
      "text/plain": [
       "SequenceClassifierOutput(loss=None, logits=tensor([[ 3.9217, -3.1143],\n",
       "        [-3.9471,  4.2828],\n",
       "        [-4.2709,  4.6639]], grad_fn=<AddmmBackward0>), hidden_states=None, attentions=None)"
      ]
     },
     "execution_count": 34,
     "metadata": {},
     "output_type": "execute_result"
    }
   ],
   "source": [
    "bert_model_output"
   ]
  },
  {
   "cell_type": "code",
   "execution_count": 35,
   "id": "12fd4f8e-3493-43f0-bdc5-1c99895fef80",
   "metadata": {},
   "outputs": [
    {
     "data": {
      "text/plain": [
       "tensor([[ 3.9217, -3.1143],\n",
       "        [-3.9471,  4.2828],\n",
       "        [-4.2709,  4.6639]], grad_fn=<AddmmBackward0>)"
      ]
     },
     "execution_count": 35,
     "metadata": {},
     "output_type": "execute_result"
    }
   ],
   "source": [
    "bert_logits = bert_model_output['logits']\n",
    "bert_logits"
   ]
  },
  {
   "cell_type": "code",
   "execution_count": 36,
   "id": "209a36a2-98c8-4ed4-ba45-8af8cb329d95",
   "metadata": {},
   "outputs": [
    {
     "data": {
      "text/plain": [
       "tensor([[9.9912e-01, 8.7888e-04],\n",
       "        [2.6649e-04, 9.9973e-01],\n",
       "        [1.3171e-04, 9.9987e-01]], grad_fn=<SoftmaxBackward0>)"
      ]
     },
     "execution_count": 36,
     "metadata": {},
     "output_type": "execute_result"
    }
   ],
   "source": [
    "bert_output_probs = F.softmax(bert_logits, dim=-1)\n",
    "bert_output_probs"
   ]
  },
  {
   "cell_type": "code",
   "execution_count": 41,
   "id": "afe4411c-d59a-41af-b7b7-28faccdb4391",
   "metadata": {},
   "outputs": [],
   "source": [
    "bert_final_result = result_output_bert(model=bert_model, output_probs=bert_output_probs)"
   ]
  },
  {
   "cell_type": "code",
   "execution_count": 42,
   "id": "60ae78ae-14a9-4b45-a1b5-f5edd3106b83",
   "metadata": {},
   "outputs": [
    {
     "data": {
      "text/plain": [
       "[{'label': 'NEGATIVE', 'score': 0.9991211295127869},\n",
       " {'label': 'POSITIVE', 'score': 0.9997335076332092},\n",
       " {'label': 'POSITIVE', 'score': 0.9998682737350464}]"
      ]
     },
     "execution_count": 42,
     "metadata": {},
     "output_type": "execute_result"
    }
   ],
   "source": [
    "bert_final_result"
   ]
  },
  {
   "cell_type": "code",
   "execution_count": 43,
   "id": "5f5457b2-135e-4eeb-91fe-dc6beae6b4b1",
   "metadata": {},
   "outputs": [
    {
     "data": {
      "text/plain": [
       "[{'label': 'NEGATIVE', 'score': 0.9991211295127869},\n",
       " {'label': 'POSITIVE', 'score': 0.9997335076332092},\n",
       " {'label': 'POSITIVE', 'score': 0.9998682737350464}]"
      ]
     },
     "execution_count": 43,
     "metadata": {},
     "output_type": "execute_result"
    }
   ],
   "source": [
    "sent_pipe_bert(raw_inputs)"
   ]
  },
  {
   "cell_type": "code",
   "execution_count": null,
   "id": "1d6d55cd-7245-4231-82cf-37e69635e8e5",
   "metadata": {},
   "outputs": [],
   "source": []
  }
 ],
 "metadata": {
  "kernelspec": {
   "display_name": "Python 3 (ipykernel)",
   "language": "python",
   "name": "python3"
  },
  "language_info": {
   "codemirror_mode": {
    "name": "ipython",
    "version": 3
   },
   "file_extension": ".py",
   "mimetype": "text/x-python",
   "name": "python",
   "nbconvert_exporter": "python",
   "pygments_lexer": "ipython3",
   "version": "3.12.9"
  }
 },
 "nbformat": 4,
 "nbformat_minor": 5
}
